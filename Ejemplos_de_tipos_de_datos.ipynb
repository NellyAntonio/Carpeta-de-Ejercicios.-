{
  "nbformat": 4,
  "nbformat_minor": 0,
  "metadata": {
    "colab": {
      "provenance": [],
      "authorship_tag": "ABX9TyPXhCv0sYvgI1vEwLl/ab7U",
      "include_colab_link": true
    },
    "kernelspec": {
      "name": "python3",
      "display_name": "Python 3"
    },
    "language_info": {
      "name": "python"
    }
  },
  "cells": [
    {
      "cell_type": "markdown",
      "metadata": {
        "id": "view-in-github",
        "colab_type": "text"
      },
      "source": [
        "<a href=\"https://colab.research.google.com/github/NellyAntonio/Carpeta-de-Ejercicios.-/blob/main/Ejemplos_de_tipos_de_datos.ipynb\" target=\"_parent\"><img src=\"https://colab.research.google.com/assets/colab-badge.svg\" alt=\"Open In Colab\"/></a>"
      ]
    },
    {
      "cell_type": "code",
      "execution_count": 35,
      "metadata": {
        "colab": {
          "base_uri": "https://localhost:8080/"
        },
        "id": "CY_Wn8a3UtU-",
        "outputId": "e5c07b9f-687c-4bfe-c029-7b8450c09ed7"
      },
      "outputs": [
        {
          "output_type": "stream",
          "name": "stdout",
          "text": [
            "INT (Entero): 42\n",
            "FLOAT (Decimal): 18.34\n",
            "COMPLEX (Complejo): (18+1j)\n",
            "BOOLEAN (logico): True\n",
            "STR (Cadena): Hola\n",
            "LIST (lista): [31, 7, 7]\n",
            "TUPLE (datos): (18.34, -1.5)\n",
            "FROZENSET (Congelar): ['gato', 'perro', 'gato']\n",
            "SET (Conjunto): {'platano', 'fresa'}\n"
          ]
        }
      ],
      "source": [
        "#Los tipos de datos\n",
        "\n",
        "entero = 42\n",
        "print(f\"INT (Entero): {entero}\")\n",
        "decimal = 18.34\n",
        "print(f\"FLOAT (Decimal): {decimal}\")\n",
        "imaginario = 18 + 1j\n",
        "print(f\"COMPLEX (Complejo): {imaginario}\")\n",
        "logico = True # or False\n",
        "print(f\"BOOLEAN (logico): {logico}\")\n",
        "\n",
        "cadena = \"Hola\"\n",
        "print(f\"STR (Cadena): {cadena}\")\n",
        "lista = [31, 7, 7]\n",
        "print(f\"LIST (lista): {lista}\")\n",
        "datos = (18.34, -1.50)\n",
        "print(f\"TUPLE (datos): {datos}\")\n",
        "\n",
        "congelar = (['gato', 'perro', 'gato'])\n",
        "print(f\"FROZENSET (Congelar): {congelar}\")\n",
        "desordenada = {'fresa', 'platano', 'fresa'}\n",
        "print(f\"SET (Conjunto): {desordenada}\")\n",
        "\n"
      ]
    }
  ]
}