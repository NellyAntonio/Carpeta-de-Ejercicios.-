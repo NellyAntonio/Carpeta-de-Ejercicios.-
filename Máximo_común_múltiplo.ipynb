{
  "cells": [
    {
      "cell_type": "markdown",
      "metadata": {
        "id": "view-in-github",
        "colab_type": "text"
      },
      "source": [
        "<a href=\"https://colab.research.google.com/github/NellyAntonio/Carpeta-de-Ejercicios.-/blob/main/M%C3%A1ximo_com%C3%BAn_m%C3%BAltiplo.ipynb\" target=\"_parent\"><img src=\"https://colab.research.google.com/assets/colab-badge.svg\" alt=\"Open In Colab\"/></a>"
      ]
    },
    {
      "cell_type": "code",
      "source": [
        "def mcm(num1, num2):\n",
        "  \"\"\"Calcular el maximo comun multiplo (mcm) de dos numeros enteros\"\"\"\n",
        "  if num1 == 0 or num2 == 0:\n",
        "    return 0\n",
        "\n",
        "  # Start with the larger number\n",
        "  if num1 > num2:\n",
        "    mayor = num1\n",
        "  else:\n",
        "    mayor = num2\n",
        "\n",
        "  while(True):\n",
        "    if((mayor % num1 == 0) and (mayor % num2 == 0)):\n",
        "      mcm_result = mayor\n",
        "      break\n",
        "    mayor += 1\n",
        "\n",
        "  return mcm_result\n",
        "\n",
        "num1 = int(input(\"Introduce el primer numero:\"))\n",
        "num2 = int(input(\"Introduce el segundo numero:\"))\n",
        "print(\"El maximo comun multiplo de\", num1, \"y\", num2, \"es de\", mcm(num1, num2))"
      ],
      "metadata": {
        "colab": {
          "base_uri": "https://localhost:8080/"
        },
        "id": "ksiF3KxvfTKB",
        "outputId": "5a9bcd65-953a-49cf-a4cb-37d1162a6d24"
      },
      "execution_count": 18,
      "outputs": [
        {
          "output_type": "stream",
          "name": "stdout",
          "text": [
            "Introduce el primer numero:19\n",
            "Introduce el segundo numero:18\n",
            "El maximo comun multiplo de 19 y 18 es de 342\n"
          ]
        }
      ]
    }
  ],
  "metadata": {
    "colab": {
      "provenance": [],
      "include_colab_link": true
    },
    "kernelspec": {
      "display_name": "Python 3",
      "name": "python3"
    }
  },
  "nbformat": 4,
  "nbformat_minor": 0
}